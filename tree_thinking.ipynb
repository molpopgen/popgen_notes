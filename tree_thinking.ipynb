{
 "cells": [
  {
   "cell_type": "code",
   "execution_count": null,
   "id": "29a02180-a004-4f87-93c8-0f2d038ca7cd",
   "metadata": {},
   "outputs": [],
   "source": [
    "from IPython.display import SVG, Image"
   ]
  },
  {
   "cell_type": "markdown",
   "id": "e6b66194-f541-4f31-848e-0fee44295ff0",
   "metadata": {},
   "source": [
    "# Thinking about graphs\n",
    "\n",
    "## Species trees\n",
    "\n",
    "The following image shows the relationship of three species -- human, chimpanzee, and gorilla.\n",
    "The y axis depicts time in the *past*, which is increasing from the bottom to the top of the image.\n",
    "The time units are \"millions of years ago\", or `mya`."
   ]
  },
  {
   "cell_type": "code",
   "execution_count": null,
   "id": "726a8cce-9ebe-47cb-91b6-8a615657f3cd",
   "metadata": {},
   "outputs": [],
   "source": [
    "SVG(\"figures/human_chimp_gorilla.svg\")"
   ]
  },
  {
   "cell_type": "markdown",
   "id": "41808003-54df-423e-91b3-8e1a54c58f4c",
   "metadata": {},
   "source": [
    "The image contains the following elements:\n",
    "\n",
    "1. *nodes*: a node is a vertex on the graph that represents an ancestor or a terminal \"tip\".\n",
    "   On this tree, tips are shown as squares and branching points are circles.\n",
    "   This graph has three terminal tips, which are our modern day species (human/chimp/gorilla).\n",
    "   This graph has two ancestor nodes, which are associated with *branching points*, meaning that there is more than one line moving from the node towards the present time.\n",
    "   On thise tree, these branching point nodes are the *common ancestors* of our species.\n",
    "   The human/chimpanzee common ancestor is labelled `H/C` and the common ancestor of `H/C` and gorilla\n",
    "   is labelled `H/C/G`.\n",
    "2. *edges*: edges are the lines connecting the nodes.  In this image, the y axis represents time.\n",
    "    Thus, the lengths of the edges are in units of *millions of years*.\n",
    "\n",
    "A set of *nodes* connected by *edges* is a *graph*. A graph with no cycles (nodes connected by edges to form \"loops\") is a *tree*.\n",
    "\n",
    "In most use cases in evolutionary biology, we call an *edge* a *branch* because we call the graph a tree!!\n",
    "\n",
    "Further, because the graph is oriented with respect to *time in the past*, we can say things like the following:\n",
    "\n",
    "1. The human/chimp common ancestor existed 6 million years ago.  We get this simply from looking at our image. (Although we'd usually get this information from some file that we use to plot the tree.)\n",
    "2. The human/chimp/gorilla common ancestor existing 12 million years ago.\n",
    "3. Human and chimps are more closely related to each other than either one is to the gorilla.  We make this statement because:\n",
    "    1. The human/chimp common ancestor occurred in the more recent past than the common ancestor or human/gorilla (which is the same node as the chimp/gorilla common ancestor.)\n",
    "    2. There for, there is more *time during which evolution (change) occurred* between human/gorilla (and also chimp/gorilla) than there is between human and chimp.\n",
    "\n",
    "To illustrate this final point in more detail, let us show the same tree with each branch given a different color:"
   ]
  },
  {
   "cell_type": "code",
   "execution_count": null,
   "id": "e105ca5f-47b7-481b-89fd-f3de05b6e68e",
   "metadata": {},
   "outputs": [],
   "source": [
    "SVG(\"figures/human_chimp_gorilla_colored_edges.svg\")"
   ]
  },
  {
   "cell_type": "markdown",
   "id": "0d794052-734c-46c3-8a26-2ab79163ba63",
   "metadata": {},
   "source": [
    "We have the following branches and *branch lengths*:\n",
    "\n",
    "| Ancestor (parent) | Descendant (child) | Color | Length (mya) |\n",
    "|-----|-----|-----|-----|\n",
    "|H/C/G|H/C|Pink|6|\n",
    "|H/C/G|Gorilla|Purple|12|\n",
    "|H/C|Human|Cyan|6|\n",
    "|H/C|Chimp|Red|6|\n",
    "\n",
    "We get the branch lengths directly from the tree.  For example, human exists now (0 mya) and the `H/C` node is 6mya ago. The branch length is therefore $6-0=6$.\n",
    "\n",
    "Evolutionary change accumulates over time.\n",
    "This accumulation is the result of mutations that mutations that affect organismal phenotypes.\n",
    "In order to become species differences, the mutations have to \"stick around\" long enough to spread through entire species.\n",
    "\n",
    "We can use our branch lengths to ask how much evolutionary time has occurred between our three \"tip\" species.\n",
    "For example:\n",
    "\n",
    "1. 6 million years separate human from the `H/C` node.\n",
    "2. 6 million years separate chimp from the `H/C` node.\n",
    "3. Therefore $6 + 6 = 12$ million years separate modern humans from contemporary chimpanzees.\n",
    "\n",
    "This simple calculation illustrates a general principle:\n",
    "\n",
    "The amount of evolution that has occurred between two species on a tree is a function of the **sum** of the branch lengths separating them.\n",
    "We say \"is a function of\" because we also need to consider how quickly phenotypes or DNA sequences change per unit time.\n",
    "\n",
    "### Evolutionary change on trees\n",
    "\n",
    "Let us expand on our previous discussion, using DNA changes as a concrete example.\n",
    "The following graphic shows our tree with three mutations added.\n",
    "The notation for a mutation is: `Position: ancestral state -> derived state`.\n",
    "In words, we read these labels as, \"At Position X in the genome, the DNA sequence changed from `ancestral state` to `derived state`.\"\n",
    "\n",
    "The ancestral state is usually the DNA state that was present in the node that is ancestral to (more ancient than) the mutation.\n",
    "The positions of each mutation on a branch represent when they occurred in the past.\n",
    "For example, at position 800, the `H/C/G` node has a `T`.\n",
    "At about 11mya, this position changed from `T` to `A` on the branch leading from `H/C/G` to Gorilla.\n",
    "The result is that most or all individuals that are modern gorillas will have an `A` at position 800.\n",
    "\n",
    "We can write down the logic required to figure out how to determine the DNA sequence at a specific position for our tip nodes:\n",
    "\n",
    "1. Identify the `derived` state of the change. (`A` at position 800.)\n",
    "2. Identify the `branch` that the mutation occurs on. (The `H/C/G` to Gorilla branch for this mutation.)\n",
    "3. Trace from the mutation down to each tree tip, making sure to follow all branching points along the way. This step is easy for position 800 -- there is only one branch all the way down to the Gorilla tip node.  The derived state is present in all of the tips.\n",
    "\n",
    "Position 800 is not very interesting, but position 42 is!\n",
    "Let's perform our steps:\n",
    "\n",
    "1. The derived state of this mutation is `C`.\n",
    "2. It occurs on the `H/C/G` to `H/C` branch.\n",
    "3. Tracing down the tree to the present day, we find that the tips are Human and Chimp. Therefore, human and chimp *both* have a `C` at position 42 of the genome!"
   ]
  },
  {
   "cell_type": "code",
   "execution_count": null,
   "id": "bd47e0d8-1947-469f-b6bb-477353bc77aa",
   "metadata": {},
   "outputs": [],
   "source": [
    "SVG(\"figures/human_chimp_gorilla_with_mutations.svg\")"
   ]
  },
  {
   "cell_type": "markdown",
   "id": "ddd52938-0d22-420c-bb6f-0f7f47b62efc",
   "metadata": {},
   "source": [
    "### Multiple mutations at a site\n",
    "\n",
    "Unfortunately, biology is quite messy.\n",
    "Above, we noted that the ancestral state is \"usually\" the one found at the ancestor node.\n",
    "We had to say \"usually\" because the same site in a genome can change multiple times.\n",
    "This occurs when there is a lot of evolutionary time on a branch.\n",
    "(In other words, when it is long.)\n",
    "Mutations happen every generation, and over long time periods, the same site can be \"hit\" more than once by a mutation.\n",
    "\n",
    "The following graphic illustrates such \"multiple hits\":"
   ]
  },
  {
   "cell_type": "code",
   "execution_count": null,
   "id": "03b0a2d6-95f1-43b4-9899-308cd320d66d",
   "metadata": {},
   "outputs": [],
   "source": [
    "SVG(\"figures/human_chimp_gorilla_with_multiple_hits.svg\")"
   ]
  },
  {
   "cell_type": "markdown",
   "id": "e179432e-127e-42ae-a4b2-bd7f2e25a81f",
   "metadata": {},
   "source": [
    "We now have additional mutations that occurred at positions 42 and 800.\n",
    "When mutations occur at the same position, the *ancestral* state is the *derived* state of the previous mutation at that position.  For example, at position 42, we have a mutation from `T` to `C` about 7 million years ago and then another from `C` to `T` about 0.5 million years ago on the branch leading to chimpanzees.  The result of this chain of events is that humans have a `C` at this position yet the chimp has a `T` because the second \"hit\" reverted the DNA sequence back to the original ancestral state (`T`).\n",
    "\n",
    "Similarly, a second mutation at position 800 on the gorilla branch leads to a final state of `C` at position 800.\n",
    "\n",
    "Multiple mutations at the same position mean that we need to update our logic.\n",
    "As we trace a mutation at a site, we start with the most ancient mutation.\n",
    "For each mutation we encounter, we record its derived state.\n",
    "If we encounter another mutation at the same state, we replace the previous derived state with the value from the more recent mutation.\n",
    "We have to take care to recognize when different branches can have different derived states at a given site.  Position 42 is an example of this phenomenon because the most recent mutation is more recent than the split of humans and chimpanzees.\n",
    "\n",
    "### Summary\n",
    "\n",
    "1. Trees are graphs that describe the relationship among the tip nodes.\n",
    "2. In biology, the tips of trees represent things that we study -- extant species, individuals sampled from modern populations, etc..\n",
    "   1. Tips need not be associated with the present time. We are now able to sequence DNA from preserved samples.  For example, we have genome sequences from extinct species like the wooly mammoth and the Neanderthal.\n",
    "4. The ancestral (non-tip) nodes are the ancestors of the tips, meaning that they existed in the past.\n",
    "5. Branch lengths usually indicate \"how much evolution\" has occurred on the branch. The examples in this section are in units of time.\n",
    "6. We can trace changes on the trees from the past to the present.  These changes tell us the \"state\" of the tips. The examples here all trace changes in DNA sequence from the past to the present."
   ]
  },
  {
   "cell_type": "markdown",
   "id": "4c82f662-10cf-48c5-ac22-87d622c89f60",
   "metadata": {
    "editable": true,
    "slideshow": {
     "slide_type": ""
    },
    "tags": []
   },
   "source": [
    "## Pedigrees"
   ]
  },
  {
   "cell_type": "code",
   "execution_count": null,
   "id": "e2ae062b-c9ea-4cd2-815c-6a778b6442c0",
   "metadata": {},
   "outputs": [],
   "source": [
    "Image(filename='figures/trio.png') "
   ]
  },
  {
   "cell_type": "code",
   "execution_count": null,
   "id": "e0695e0b-7026-469e-a24e-6bdb02d68b29",
   "metadata": {},
   "outputs": [],
   "source": [
    "SVG(\"figures/trio.svg\")"
   ]
  },
  {
   "cell_type": "code",
   "execution_count": null,
   "id": "32b9dbe7-b606-473e-bcd9-6ca892f34497",
   "metadata": {},
   "outputs": [],
   "source": [
    "Image(filename='figures/two_sibs.png') "
   ]
  },
  {
   "cell_type": "code",
   "execution_count": null,
   "id": "6d33a65e-2542-4777-afef-9e376951a9c8",
   "metadata": {},
   "outputs": [],
   "source": [
    "SVG(\"figures/two_sibs.svg\")"
   ]
  },
  {
   "cell_type": "code",
   "execution_count": null,
   "id": "1078f0d9-84f9-4360-ab1c-19ac980de0e1",
   "metadata": {},
   "outputs": [],
   "source": [
    "Image(\"figures/multigen_pedigree.png\")"
   ]
  },
  {
   "cell_type": "code",
   "execution_count": null,
   "id": "ab5343a1-a8fe-4824-81fc-e71c632a1927",
   "metadata": {},
   "outputs": [],
   "source": [
    "SVG(\"figures/multigen_pedigree.svg\")"
   ]
  },
  {
   "cell_type": "code",
   "execution_count": null,
   "id": "ef4a1550-d429-4407-833b-ff201b934e3e",
   "metadata": {
    "jp-MarkdownHeadingCollapsed": true
   },
   "outputs": [],
   "source": [
    "SVG(\"figures/multigen_pedigree_simplified.svg\")"
   ]
  },
  {
   "cell_type": "markdown",
   "id": "970fa8ac-5326-411a-8bf8-42f17c8b5b5f",
   "metadata": {},
   "source": [
    "## Pedigrees in randomly mating populations"
   ]
  },
  {
   "cell_type": "code",
   "execution_count": null,
   "id": "7676ae21-8cdc-46d3-a1cb-52a9afc890c9",
   "metadata": {},
   "outputs": [],
   "source": [
    "Image(\"figures/simulated_pedigree_1.png\")"
   ]
  },
  {
   "cell_type": "code",
   "execution_count": null,
   "id": "d19d3aba-5914-4b99-993c-9b37f4a8a7e7",
   "metadata": {},
   "outputs": [],
   "source": [
    "SVG(\"figures/simulated_pedigree_1.svg\")"
   ]
  },
  {
   "cell_type": "code",
   "execution_count": null,
   "id": "c4e6f492-33e4-43f2-ba32-d41e5b07b5df",
   "metadata": {},
   "outputs": [],
   "source": [
    "SVG(\"figures/simulated_pedigree_1_simplified.svg\")"
   ]
  },
  {
   "cell_type": "code",
   "execution_count": null,
   "id": "8dc2ae43-a151-4d44-bbca-e25fb6389a4b",
   "metadata": {},
   "outputs": [],
   "source": [
    "Image(\"figures/simulated_pedigree_2.png\")"
   ]
  },
  {
   "cell_type": "code",
   "execution_count": null,
   "id": "eedea089-3fbd-4a6a-a572-7a68e1349707",
   "metadata": {},
   "outputs": [],
   "source": [
    "SVG(\"figures/simulated_pedigree_2.svg\")"
   ]
  },
  {
   "cell_type": "code",
   "execution_count": null,
   "id": "108e9827-11c3-4e65-994e-afa5f98c7be6",
   "metadata": {},
   "outputs": [],
   "source": [
    "SVG(\"figures/simulated_pedigree_2_simplified.svg\")"
   ]
  }
 ],
 "metadata": {
  "kernelspec": {
   "display_name": "Python 3 (ipykernel)",
   "language": "python",
   "name": "python3"
  },
  "language_info": {
   "codemirror_mode": {
    "name": "ipython",
    "version": 3
   },
   "file_extension": ".py",
   "mimetype": "text/x-python",
   "name": "python",
   "nbconvert_exporter": "python",
   "pygments_lexer": "ipython3",
   "version": "3.12.8"
  },
  "title": "Thinking about graphs."
 },
 "nbformat": 4,
 "nbformat_minor": 5
}
